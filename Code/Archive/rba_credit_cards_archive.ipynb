{
 "cells": [
  {
   "cell_type": "code",
   "execution_count": 5,
   "metadata": {},
   "outputs": [],
   "source": [
    "# Series: High-level Consumer Finance Exploration \n",
    "# Subseries: RBA Credit Cards\n",
    "# Purpose: Present Consumer Credit Card statistics\n",
    "# Author: Michael Letheby\n",
    "# Date: Aug-21\n",
    "\n",
    "# Change Log:\n",
    "# Aug-21 Initial Draft\n",
    "\n",
    "# Import Libraries\n",
    "import pandas as pd # Data Analysis Library\n",
    "import matplotlib.pyplot as plt # Data Visualisation Library\n",
    "%matplotlib inline\n",
    "\n",
    "import seaborn as sns # Data Visualisation Library\n",
    "import requests\n",
    "\n",
    "pd.options.mode.chained_assignment = None  # default='warn'\n",
    "\n",
    "# import os \n",
    "# os.getcwd()"
   ]
  },
  {
   "cell_type": "code",
   "execution_count": null,
   "metadata": {},
   "outputs": [],
   "source": [
    "# Extract Data\n",
    "#  TBD\n",
    "# Sense-Check Extrated Data\n",
    "#  TBD"
   ]
  },
  {
   "cell_type": "code",
   "execution_count": 2,
   "metadata": {},
   "outputs": [],
   "source": [
    "# Use the dictionary with the following structure for the loop\n",
    "\"filename for the download\", \"rows to keep\", \"series ID columns to keep\"\n",
    "\n",
    "file_dl_dict = { # Dictionary to store filename and filepath mapping\n",
    "    \"c1.2\" : [[\"c01-2-hist\"],\n",
    "              ['Description', 'Frequency', 'Type', 'Units', 'Source', 'Publication date'],\n",
    "              ['CCCCSBTP', 'CCCCSCLP']]\n",
    "}\n"
   ]
  },
  {
   "cell_type": "code",
   "execution_count": 6,
   "metadata": {},
   "outputs": [],
   "source": [
    "for key in file_dl_dict:\n",
    "    dl_name = file_dl_dict[key][0][0] + \".xlsx\"\n",
    "    dl_url = \"https://www.rba.gov.au/statistics/tables/xls/\" + dl_name\n",
    "    r = requests.get(dl_url)\n",
    "    with open(\"./Data/\" + dl_name, 'wb') as f:\n",
    "              f.write(r.content)    \n",
    "            \n",
    "            # can i put extra info into the dictionary? i.e. the required columns + rows to keep"
   ]
  },
  {
   "cell_type": "code",
   "execution_count": 7,
   "metadata": {},
   "outputs": [
    {
     "name": "stdout",
     "output_type": "stream",
     "text": [
      "Publication date:  09-Aug-2021\n"
     ]
    }
   ],
   "source": [
    "# separate functions: download the files, extract all the series + metadata, clean/format the data, visualise the data\n",
    "\n",
    "output_d = {} # For storing all outputs in\n",
    "\n",
    "for key in file_dl_dict:   \n",
    "    data_name = str(file_dl_dict[key][0][0])\n",
    "    row_filter = file_dl_dict[key][1]\n",
    "    series_filter = file_dl_dict[key][2]\n",
    "    \n",
    "    read_path = './data/' + data_name + '.xlsx'\n",
    "    rba_data = pd.read_excel(read_path, sheet_name = 'Data', skiprows = 1)\n",
    "\n",
    "    # Extract Publication Date\n",
    "    print('Publication date: ', rba_data.loc[rba_data['Title'] == 'Publication date'].values[0,1]) #loc = index check\n",
    "    \n",
    "    # should put publication dates into another list\n",
    "    \n",
    "    # Transform Data \n",
    "\n",
    "    # Drop Rows\n",
    "    rba_data_fmt = rba_data[~rba_data['Title'].isin(row_filter)]\n",
    "    rba_data_fmt = rba_data_fmt.dropna(subset=['Title']) # Drop these rows \n",
    "    \n",
    "    # rba_data_fmt.head()\n",
    "    series_id = rba_data_fmt.head(1).values[0] # Create lookup to reference Series ID to keep\n",
    "    title = rba_data_fmt.columns.values\n",
    "    series_lookup = pd.DataFrame(list(zip(series_id,title)), columns=['Series ID','Title'])\n",
    "    series_lookup = series_lookup[series_lookup['Series ID'] != 'Series ID']\n",
    "\n",
    "    # select the series_to_filter\n",
    "    series_filter = series_filter # Series ID to lookup\n",
    "    column_filter = series_lookup.loc[series_lookup['Series ID'].isin(series_filter), 'Title'].values.tolist()\n",
    "    column_filter.insert(0, 'Title')\n",
    "\n",
    "    # Filter Columns based on column_filter\n",
    "    rba_data_fmt = rba_data_fmt.loc[rba_data_fmt['Title']!='Series ID',column_filter]\n",
    "    rba_data_fmt = rba_data_fmt.reset_index(drop=True)\n",
    "    rba_data_fmt = rba_data_fmt.rename(columns={'Title': 'Date'})\n",
    "    rba_data_fmt = rba_data_fmt.convert_dtypes() # Convert variable types\n",
    "\n",
    "    output_d[data_name] = rba_data_fmt # Need to save this"
   ]
  },
  {
   "cell_type": "code",
   "execution_count": 42,
   "metadata": {},
   "outputs": [],
   "source": [
    "\n"
   ]
  },
  {
   "cell_type": "code",
   "execution_count": 52,
   "metadata": {},
   "outputs": [
    {
     "data": {
      "text/html": [
       "<div>\n",
       "<style scoped>\n",
       "    .dataframe tbody tr th:only-of-type {\n",
       "        vertical-align: middle;\n",
       "    }\n",
       "\n",
       "    .dataframe tbody tr th {\n",
       "        vertical-align: top;\n",
       "    }\n",
       "\n",
       "    .dataframe thead th {\n",
       "        text-align: right;\n",
       "    }\n",
       "</style>\n",
       "<table border=\"1\" class=\"dataframe\">\n",
       "  <thead>\n",
       "    <tr style=\"text-align: right;\">\n",
       "      <th></th>\n",
       "      <th>Date</th>\n",
       "      <th>Total balances: personal cards</th>\n",
       "      <th>Credit limits: personal cards</th>\n",
       "      <th>Date_Axis</th>\n",
       "      <th>Year</th>\n",
       "      <th>Month</th>\n",
       "      <th>Utilisation</th>\n",
       "      <th>Balance MoM</th>\n",
       "      <th>Balance YoY</th>\n",
       "    </tr>\n",
       "  </thead>\n",
       "  <tbody>\n",
       "    <tr>\n",
       "      <th>204</th>\n",
       "      <td>2019-01-31</td>\n",
       "      <td>45336.993751</td>\n",
       "      <td>138374.454162</td>\n",
       "      <td>Jan-19</td>\n",
       "      <td>2019</td>\n",
       "      <td>1</td>\n",
       "      <td>0.327640</td>\n",
       "      <td>-970.443890</td>\n",
       "      <td>-1613.370568</td>\n",
       "    </tr>\n",
       "    <tr>\n",
       "      <th>205</th>\n",
       "      <td>2019-02-28</td>\n",
       "      <td>46005.887566</td>\n",
       "      <td>137844.531927</td>\n",
       "      <td>Feb-19</td>\n",
       "      <td>2019</td>\n",
       "      <td>2</td>\n",
       "      <td>0.333752</td>\n",
       "      <td>668.893815</td>\n",
       "      <td>-1413.763400</td>\n",
       "    </tr>\n",
       "    <tr>\n",
       "      <th>206</th>\n",
       "      <td>2019-03-31</td>\n",
       "      <td>45593.932890</td>\n",
       "      <td>137313.168803</td>\n",
       "      <td>Mar-19</td>\n",
       "      <td>2019</td>\n",
       "      <td>3</td>\n",
       "      <td>0.332043</td>\n",
       "      <td>-411.954676</td>\n",
       "      <td>-1687.643747</td>\n",
       "    </tr>\n",
       "    <tr>\n",
       "      <th>207</th>\n",
       "      <td>2019-04-30</td>\n",
       "      <td>45292.103525</td>\n",
       "      <td>136880.397038</td>\n",
       "      <td>Apr-19</td>\n",
       "      <td>2019</td>\n",
       "      <td>4</td>\n",
       "      <td>0.330888</td>\n",
       "      <td>-301.829366</td>\n",
       "      <td>-1432.697180</td>\n",
       "    </tr>\n",
       "    <tr>\n",
       "      <th>208</th>\n",
       "      <td>2019-05-31</td>\n",
       "      <td>44971.774273</td>\n",
       "      <td>136574.150028</td>\n",
       "      <td>May-19</td>\n",
       "      <td>2019</td>\n",
       "      <td>5</td>\n",
       "      <td>0.329285</td>\n",
       "      <td>-320.329252</td>\n",
       "      <td>-1838.335642</td>\n",
       "    </tr>\n",
       "  </tbody>\n",
       "</table>\n",
       "</div>"
      ],
      "text/plain": [
       "          Date  Total balances: personal cards  Credit limits: personal cards  \\\n",
       "204 2019-01-31                    45336.993751                  138374.454162   \n",
       "205 2019-02-28                    46005.887566                  137844.531927   \n",
       "206 2019-03-31                    45593.932890                  137313.168803   \n",
       "207 2019-04-30                    45292.103525                  136880.397038   \n",
       "208 2019-05-31                    44971.774273                  136574.150028   \n",
       "\n",
       "    Date_Axis  Year  Month  Utilisation  Balance MoM  Balance YoY  \n",
       "204    Jan-19  2019      1     0.327640  -970.443890 -1613.370568  \n",
       "205    Feb-19  2019      2     0.333752   668.893815 -1413.763400  \n",
       "206    Mar-19  2019      3     0.332043  -411.954676 -1687.643747  \n",
       "207    Apr-19  2019      4     0.330888  -301.829366 -1432.697180  \n",
       "208    May-19  2019      5     0.329285  -320.329252 -1838.335642  "
      ]
     },
     "execution_count": 52,
     "metadata": {},
     "output_type": "execute_result"
    }
   ],
   "source": [
    "# Visualise the trend\n",
    "\n",
    "rba_c_1_2 = output_d['c01-2-hist']\n",
    "rba_c_1_2 = rba_c_1_2[rba_c_1_2['Date'] >= '2018-01-01'] # In order to calculate MoM + YoY\n",
    "rba_c_1_2['Date_Axis'] = rba_c_1_2['Date'].dt.strftime(\"%b-%y\")\n",
    "rba_c_1_2['Year'] = rba_c_1_2['Date'].dt.year\n",
    "rba_c_1_2['Month'] = rba_c_1_2['Date'].dt.month\n",
    "rba_c_1_2['Utilisation'] = (rba_c_1_2['Total balances: personal cards'] / rba_c_1_2['Credit limits: personal cards'])\n",
    "rba_c_1_2['Balance MoM'] = rba_c_1_2['Total balances: personal cards'] - rba_c_1_2['Total balances: personal cards'].shift(periods=1)\n",
    "rba_c_1_2['Balance YoY'] = rba_c_1_2['Total balances: personal cards'] - rba_c_1_2['Total balances: personal cards'].shift(periods=12)\n",
    "rba_c_1_2 = rba_c_1_2[rba_c_1_2['Date'] >= '2019-01-01'] \n",
    "rba_c_1_2.head(n=5)"
   ]
  },
  {
   "cell_type": "code",
   "execution_count": null,
   "metadata": {},
   "outputs": [],
   "source": [
    "\n",
    "# plt.plot(rba_c_1_2['Date'], rba_c_1_2['Total balances: personal cards'], label = 'Balances')\n",
    "# plt.plot(rba_c_1_2['Date'], rba_c_1_2['Credit limits: personal cards'], label = 'Limits')\n",
    "# plt.plot(rba_c_1_2['Date'], rba_c_1_2['Utilisation'], label = 'Utilisation')\n",
    "plt.plot(rba_c_1_2['Date'], rba_c_1_2['Balance MoM'])\n",
    "plt.ylabel('$')\n",
    "plt.xlabel('Date')\n",
    "plt.xticks(rotation=45)\n",
    "#plt.ylim(0,)\n",
    "plt.show()\n",
    "\n",
    "rba_c_1_2.head(n=5)"
   ]
  },
  {
   "cell_type": "code",
   "execution_count": 61,
   "metadata": {},
   "outputs": [
    {
     "data": {
      "image/png": "[encoded data removed]",
      "text/plain": [
       "<Figure size 432x288 with 1 Axes>"
      ]
     },
     "metadata": {},
     "output_type": "display_data"
    }
   ],
   "source": [
    "sns.set_theme(style=\"darkgrid\")\n",
    "# test_graph = sns.lineplot(x=\"Date\", y=\"Balance MoM\", data=rba_c_1_2, color='red')\n",
    "# test_graph.axhline(0)\n",
    "# test_graph = sns.barplot(x=\"Date_Axis\", y=\"Balance MoM\", data=rba_c_1_2, hue=\"Year\")\n",
    "test_graph = sns.barplot(x=\"Date_Axis\", y=\"Balance MoM\", data=rba_c_1_2)\n",
    "plt.xticks(rotation=45)\n",
    "for ind, label in enumerate(test_graph.get_xticklabels()):\n",
    "    if ind % 3 == 0:  # every 3rd label is kept\n",
    "        label.set_visible(True)\n",
    "    else:\n",
    "        label.set_visible(False)"
   ]
  }
 ],
 "metadata": {
  "kernelspec": {
   "display_name": "Python 3",
   "language": "python",
   "name": "python3"
  },
  "language_info": {
   "codemirror_mode": {
    "name": "ipython",
    "version": 3
   },
   "file_extension": ".py",
   "mimetype": "text/x-python",
   "name": "python",
   "nbconvert_exporter": "python",
   "pygments_lexer": "ipython3",
   "version": "3.8.5"
  }
 },
 "nbformat": 4,
 "nbformat_minor": 4
}
